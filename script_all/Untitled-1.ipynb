{
 "cells": [
  {
   "cell_type": "code",
   "execution_count": 2,
   "metadata": {},
   "outputs": [],
   "source": [
    "import sys\n",
    "import os\n",
    "import pandas as pd\n",
    "import numpy as np"
   ]
  },
  {
   "cell_type": "code",
   "execution_count": 5,
   "metadata": {},
   "outputs": [
    {
     "name": "stdout",
     "output_type": "stream",
     "text": [
      "   Datasets_ID Usable  status  info  \\\n",
      "0       Data_8      Y     NaN   NaN   \n",
      "1       Data_8      Y     NaN   NaN   \n",
      "2       Data_8      Y     NaN   NaN   \n",
      "3       Data_8      Y     NaN   NaN   \n",
      "4       Data_8      Y     NaN   NaN   \n",
      "..         ...    ...     ...   ...   \n",
      "89     Data_13      Y     NaN   NaN   \n",
      "90     Data_13      Y     NaN   NaN   \n",
      "91     Data_13      Y     NaN   NaN   \n",
      "92     Data_13      Y     NaN   NaN   \n",
      "93     Data_13      Y     NaN   NaN   \n",
      "\n",
      "                                          Paper_Title   Bioproject  \\\n",
      "0   Temporal changes in the microbiome of stingles...  PRJNA629630   \n",
      "1   Temporal changes in the microbiome of stingles...  PRJNA629630   \n",
      "2   Temporal changes in the microbiome of stingles...  PRJNA629630   \n",
      "3   Temporal changes in the microbiome of stingles...  PRJNA629630   \n",
      "4   Temporal changes in the microbiome of stingles...  PRJNA629630   \n",
      "..                                                ...          ...   \n",
      "89  Composition and acquisition of the microbiome ...  PRJNA675403   \n",
      "90  Composition and acquisition of the microbiome ...  PRJNA675403   \n",
      "91  Composition and acquisition of the microbiome ...  PRJNA675403   \n",
      "92  Composition and acquisition of the microbiome ...  PRJNA675403   \n",
      "93  Composition and acquisition of the microbiome ...  PRJNA675403   \n",
      "\n",
      "    SRA_Number     Biosample   Sample_name Sequencing_Platform  ...  \\\n",
      "0   SRS6577328  SAMN14784629  16S_h 8-2702      Illumina MiSeq  ...   \n",
      "1   SRS6577326  SAMN14784628  16S_h 8-2111      Illumina MiSeq  ...   \n",
      "2   SRS6577325  SAMN14784627  16S_h 8-1911      Illumina MiSeq  ...   \n",
      "3   SRS6577324  SAMN14784626  16S_h 8-1601      Illumina MiSeq  ...   \n",
      "4   SRS6577394  SAMN14784625  16S_h 8-0512      Illumina MiSeq  ...   \n",
      "..         ...           ...           ...                 ...  ...   \n",
      "89  SRS7674321  SAMN16706997       A516_01      Illumina MiSeq  ...   \n",
      "90  SRS7674289  SAMN16706994       A513_01      Illumina MiSeq  ...   \n",
      "91  SRS7674277  SAMN16706993       A512_01      Illumina MiSeq  ...   \n",
      "92  SRS7674255  SAMN16706991       A510_01      Illumina MiSeq  ...   \n",
      "93  SRS7674244  SAMN16706990       A509_01      Illumina MiSeq  ...   \n",
      "\n",
      "   oa_oxytetracyclinement_dosage oa_oxytetracyclinement_dosage_unit  \\\n",
      "0                            NaN                                NaN   \n",
      "1                            NaN                                NaN   \n",
      "2                            NaN                                NaN   \n",
      "3                            NaN                                NaN   \n",
      "4                            NaN                                NaN   \n",
      "..                           ...                                ...   \n",
      "89                           NaN                                NaN   \n",
      "90                           NaN                                NaN   \n",
      "91                           NaN                                NaN   \n",
      "92                           NaN                                NaN   \n",
      "93                           NaN                                NaN   \n",
      "\n",
      "   oa_oxytetracyclinement_stage tissue_pool_state tube_id Colony  \\\n",
      "0                           NaN               NaN     NaN    NaN   \n",
      "1                           NaN               NaN     NaN    NaN   \n",
      "2                           NaN               NaN     NaN    NaN   \n",
      "3                           NaN               NaN     NaN    NaN   \n",
      "4                           NaN               NaN     NaN    NaN   \n",
      "..                          ...               ...     ...    ...   \n",
      "89                          NaN               NaN     NaN    NaN   \n",
      "90                          NaN               NaN     NaN    NaN   \n",
      "91                          NaN               NaN     NaN    NaN   \n",
      "92                          NaN               NaN     NaN    NaN   \n",
      "93                          NaN               NaN     NaN    NaN   \n",
      "\n",
      "    Days since inoculation  oxytetracyclinement_year  \\\n",
      "0                      NaN                       NaN   \n",
      "1                      NaN                       NaN   \n",
      "2                      NaN                       NaN   \n",
      "3                      NaN                       NaN   \n",
      "4                      NaN                       NaN   \n",
      "..                     ...                       ...   \n",
      "89                     NaN                       NaN   \n",
      "90                     NaN                       NaN   \n",
      "91                     NaN                       NaN   \n",
      "92                     NaN                       NaN   \n",
      "93                     NaN                       NaN   \n",
      "\n",
      "    broad-scale environmental context  environmental medium  \n",
      "0                                 NaN                   NaN  \n",
      "1                                 NaN                   NaN  \n",
      "2                                 NaN                   NaN  \n",
      "3                                 NaN                   NaN  \n",
      "4                                 NaN                   NaN  \n",
      "..                                ...                   ...  \n",
      "89                                NaN                   NaN  \n",
      "90                                NaN                   NaN  \n",
      "91                                NaN                   NaN  \n",
      "92                                NaN                   NaN  \n",
      "93                                NaN                   NaN  \n",
      "\n",
      "[94 rows x 114 columns]\n"
     ]
    }
   ],
   "source": [
    "df = pd.read_csv(\"/Users/a1-6/Project-helsinki/project_meta/final_version1/test1.csv\")\n",
    "print(df)"
   ]
  },
  {
   "cell_type": "code",
   "execution_count": 8,
   "metadata": {},
   "outputs": [
    {
     "name": "stdout",
     "output_type": "stream",
     "text": [
      "['Data_8' 'Data_13']\n"
     ]
    }
   ],
   "source": [
    "datasets = np.array([str(x).strip().replace('\\t', '') for x in df['Datasets_ID'].dropna().unique()], dtype=object)\n",
    "print(datasets)\n",
    "directory_path=\"/Users/a1-6/Project-helsinki/project_meta/final_version1/try\"\n",
    "np.savetxt(f\"{directory_path}/datasets_ID.txt\", datasets, fmt=\"%s\")"
   ]
  },
  {
   "cell_type": "code",
   "execution_count": 11,
   "metadata": {},
   "outputs": [],
   "source": [
    "#data=\"/home/data/t230307/test/Data_8/ori_fastq/Data_8_PRJNA629630_SRS6577328_SAMN14784629_SRR11658375_2.fastq\"\n",
    "file_path=\"/Users/a1-6/Project-helsinki/project_meta/final_version1/try/file_paths.txt\"\n",
    "df = pd.read_csv(file_path, sep='\\t',header=None)\n",
    "df1 = pd.DataFrame({})\n",
    "df1['sample-id'] = ''\n",
    "df1['forward-absolute-filepath'] = ''\n",
    "df1['reverse-absolute-filepath'] = ''\n",
    "\n",
    "#path1=arg2\n",
    "suffix_forw='_1.fastq'\n",
    "suffix_reverse='_2.fastq'"
   ]
  },
  {
   "cell_type": "code",
   "execution_count": 18,
   "metadata": {},
   "outputs": [
    {
     "name": "stdout",
     "output_type": "stream",
     "text": [
      "Data_8_PRJNA629630_SRS6577328_SAMN14784629_SRR11658375_1.fastq\n",
      "Data_8_PRJNA629630_SRS6577328_SAMN14784629_SRR11658375\n",
      "a/v/d/s/Data_8_PRJNA629630_SRS6577328_SAMN14784629_SRR11658375_1.fastq\n",
      "a/v/d/s/Data_8_PRJNA629630_SRS6577328_SAMN14784629_SRR11658375_2.fastq\n",
      "Data_8_PRJNA629630_SRS6577328_SAMN14784629_SRR11658375_2.fastq\n",
      "Data_8_PRJNA629630_SRS6577328_SAMN14784629_SRR11658375\n",
      "a/v/d/s/Data_8_PRJNA629630_SRS6577328_SAMN14784629_SRR11658375_1.fastq\n",
      "a/v/d/s/Data_8_PRJNA629630_SRS6577328_SAMN14784629_SRR11658375_2.fastq\n"
     ]
    }
   ],
   "source": [
    "path1=\"a/v/d/s/\"\n",
    "for i, row in df.iterrows():\n",
    "    basenames = os.path.basename(row[0])\n",
    "    print(basenames) \n",
    "    base_name = basenames.rsplit('_', 1)[0]\n",
    "    print(base_name)\n",
    "    df1.loc[i, 'sample-id'] =base_name\n",
    "    full_path_F = path1 + base_name + suffix_forw\n",
    "    print(full_path_F)\n",
    "    full_path_R = path1 + base_name + suffix_reverse\n",
    "    print(full_path_R)\n",
    "    df1.loc[i, 'forward-absolute-filepath'] = full_path_F\n",
    "    df1.loc[i, 'reverse-absolute-filepath'] = full_path_R\n",
    "\n",
    "df_unique = df1.drop_duplicates(subset=['sample-id'])\n",
    "    "
   ]
  },
  {
   "cell_type": "code",
   "execution_count": 19,
   "metadata": {},
   "outputs": [
    {
     "name": "stdout",
     "output_type": "stream",
     "text": [
      "                                           sample-id  \\\n",
      "0  Data_8_PRJNA629630_SRS6577328_SAMN14784629_SRR...   \n",
      "\n",
      "                           forward-absolute-filepath  \\\n",
      "0  a/v/d/s/Data_8_PRJNA629630_SRS6577328_SAMN1478...   \n",
      "\n",
      "                           reverse-absolute-filepath  \n",
      "0  a/v/d/s/Data_8_PRJNA629630_SRS6577328_SAMN1478...  \n"
     ]
    }
   ],
   "source": [
    "print(df_unique)"
   ]
  },
  {
   "cell_type": "code",
   "execution_count": 21,
   "metadata": {},
   "outputs": [
    {
     "name": "stdout",
     "output_type": "stream",
     "text": [
      "folder has been generated\n",
      "folder has been generated\n",
      "folder has been generated\n",
      "folder has been generated\n",
      "folder has been generated\n",
      "folder has been generated\n",
      "folder has been generated\n",
      "folder has been generated\n",
      "folder has been generated\n",
      "folder has been generated\n",
      "folder has been generated\n",
      "folder has been generated\n",
      "folder has been generated\n",
      "folder has been generated\n",
      "folder has been generated\n",
      "folder has been generated\n",
      "folder has been generated\n",
      "folder has been generated\n",
      "folder has been generated\n",
      "folder has been generated\n",
      "folder has been generated\n"
     ]
    }
   ],
   "source": [
    "directory_path=\"/Users/a1-6/Project-helsinki/project_meta/final_version1/try\"\n",
    "df[\"rename\"]= df['Datasets_ID'] + '_' + df['Bioproject'] + '_' + df['SRA_Number'] + '_' + df['Biosample']\n",
    "for value in datasets:\n",
    "    exec(f\"{value} = pd.DataFrame()\")\n",
    "    exec(f\"{value} = df[df['Datasets_ID'] == '{value}'].copy()\")\n",
    "    exec(f\"{value}_sra={value}['SRA_Number']\")\n",
    "    exec(f\"{value}_rename={value}['rename']\")\n",
    "    exec(f\"{value}_1 = pd.DataFrame()\")\n",
    "    exec(f\"{value}_1 = pd.concat([{value}_sra, {value}_rename,], axis=1)\")\n",
    "    folder_path = f\"{directory_path}/{value}/\"\n",
    "    if not os.path.exists(folder_path):\n",
    "        os.makedirs(folder_path)\n",
    "        print(\"folder has been generated\")\n",
    "    else:\n",
    "        print(\"folder existed, pass\")\n",
    "    globals()[f\"path_{value}\"] = folder_path\n",
    "    exec(f\"{value}_1.to_csv('{folder_path}{value}_sra.txt', sep='\\t',  header=None, index=None)\")\n",
    "    "
   ]
  },
  {
   "cell_type": "code",
   "execution_count": 15,
   "metadata": {},
   "outputs": [
    {
     "name": "stdout",
     "output_type": "stream",
     "text": [
      "                                           rename   SRA_Number\n",
      "821  Data_1_PRJEB56624_ERR10358556_SAMEA111455213  ERR10358556\n",
      "822  Data_1_PRJEB56624_ERR10358557_SAMEA111455214  ERR10358557\n",
      "823  Data_1_PRJEB56624_ERR10358559_SAMEA111455216  ERR10358559\n",
      "824  Data_1_PRJEB56624_ERR10358560_SAMEA111455217  ERR10358560\n",
      "825  Data_1_PRJEB56624_ERR10358562_SAMEA111455219  ERR10358562\n",
      "..                                            ...          ...\n",
      "909  Data_1_PRJEB56624_ERR10358677_SAMEA111455241  ERR10358677\n",
      "910  Data_1_PRJEB56624_ERR10358678_SAMEA111455242  ERR10358678\n",
      "911  Data_1_PRJEB56624_ERR10358679_SAMEA111455243  ERR10358679\n",
      "912  Data_1_PRJEB56624_ERR10358680_SAMEA111455244  ERR10358680\n",
      "913  Data_1_PRJEB56624_ERR10358681_SAMEA111455245  ERR10358681\n",
      "\n",
      "[93 rows x 2 columns]\n"
     ]
    }
   ],
   "source": [
    "print(Data_1_1)"
   ]
  },
  {
   "cell_type": "code",
   "execution_count": 9,
   "metadata": {},
   "outputs": [
    {
     "name": "stdout",
     "output_type": "stream",
     "text": [
      "    Datasets_ID Usable status  info  \\\n",
      "821      Data_1      y    NaN   NaN   \n",
      "822      Data_1      y    NaN   NaN   \n",
      "823      Data_1      y    NaN   NaN   \n",
      "824      Data_1      y    NaN   NaN   \n",
      "825      Data_1      y    NaN   NaN   \n",
      "..          ...    ...    ...   ...   \n",
      "909      Data_1      y    NaN   NaN   \n",
      "910      Data_1      y    NaN   NaN   \n",
      "911      Data_1      y    NaN   NaN   \n",
      "912      Data_1      y    NaN   NaN   \n",
      "913      Data_1      y    NaN   NaN   \n",
      "\n",
      "                                           Paper_Title  Bioproject  \\\n",
      "821  Gut microbiota variation of a tropical oil-col...  PRJEB56624   \n",
      "822  Gut microbiota variation of a tropical oil-col...  PRJEB56624   \n",
      "823  Gut microbiota variation of a tropical oil-col...  PRJEB56624   \n",
      "824  Gut microbiota variation of a tropical oil-col...  PRJEB56624   \n",
      "825  Gut microbiota variation of a tropical oil-col...  PRJEB56624   \n",
      "..                                                 ...         ...   \n",
      "909  Gut microbiota variation of a tropical oil-col...  PRJEB56624   \n",
      "910  Gut microbiota variation of a tropical oil-col...  PRJEB56624   \n",
      "911  Gut microbiota variation of a tropical oil-col...  PRJEB56624   \n",
      "912  Gut microbiota variation of a tropical oil-col...  PRJEB56624   \n",
      "913  Gut microbiota variation of a tropical oil-col...  PRJEB56624   \n",
      "\n",
      "      SRA_Number       Biosample                        Sample_name  \\\n",
      "821  ERR10358556  SAMEA111455213   qiita_sid_14679:14679.BEEPR.GM.1   \n",
      "822  ERR10358557  SAMEA111455214  qiita_sid_14679:14679.BEEPR.GM.11   \n",
      "823  ERR10358559  SAMEA111455216  qiita_sid_14679:14679.BEEPR.GM.13   \n",
      "824  ERR10358560  SAMEA111455217  qiita_sid_14679:14679.BEEPR.GM.14   \n",
      "825  ERR10358562  SAMEA111455219  qiita_sid_14679:14679.BEEPR.GM.16   \n",
      "..           ...             ...                                ...   \n",
      "909  ERR10358677  SAMEA111455241  qiita_sid_14679:14679.BEEPR.GM.45   \n",
      "910  ERR10358678  SAMEA111455242  qiita_sid_14679:14679.BEEPR.GM.49   \n",
      "911  ERR10358679  SAMEA111455243   qiita_sid_14679:14679.BEEPR.GM.7   \n",
      "912  ERR10358680  SAMEA111455244   qiita_sid_14679:14679.BEEPR.GM.8   \n",
      "913  ERR10358681  SAMEA111455245   qiita_sid_14679:14679.BEEPR.GM.9   \n",
      "\n",
      "    Sequencing_Platform  ... oa_oxytetracyclinement_dosage  \\\n",
      "821            ILLUMINA  ...                           NaN   \n",
      "822            ILLUMINA  ...                           NaN   \n",
      "823            ILLUMINA  ...                           NaN   \n",
      "824            ILLUMINA  ...                           NaN   \n",
      "825            ILLUMINA  ...                           NaN   \n",
      "..                  ...  ...                           ...   \n",
      "909            ILLUMINA  ...                           NaN   \n",
      "910            ILLUMINA  ...                           NaN   \n",
      "911            ILLUMINA  ...                           NaN   \n",
      "912            ILLUMINA  ...                           NaN   \n",
      "913            ILLUMINA  ...                           NaN   \n",
      "\n",
      "    oa_oxytetracyclinement_dosage_unit oa_oxytetracyclinement_stage  \\\n",
      "821                                NaN                          NaN   \n",
      "822                                NaN                          NaN   \n",
      "823                                NaN                          NaN   \n",
      "824                                NaN                          NaN   \n",
      "825                                NaN                          NaN   \n",
      "..                                 ...                          ...   \n",
      "909                                NaN                          NaN   \n",
      "910                                NaN                          NaN   \n",
      "911                                NaN                          NaN   \n",
      "912                                NaN                          NaN   \n",
      "913                                NaN                          NaN   \n",
      "\n",
      "    tissue_pool_state tube_id Colony Days since inoculation  \\\n",
      "821               NaN     NaN    NaN                    NaN   \n",
      "822               NaN     NaN    NaN                    NaN   \n",
      "823               NaN     NaN    NaN                    NaN   \n",
      "824               NaN     NaN    NaN                    NaN   \n",
      "825               NaN     NaN    NaN                    NaN   \n",
      "..                ...     ...    ...                    ...   \n",
      "909               NaN     NaN    NaN                    NaN   \n",
      "910               NaN     NaN    NaN                    NaN   \n",
      "911               NaN     NaN    NaN                    NaN   \n",
      "912               NaN     NaN    NaN                    NaN   \n",
      "913               NaN     NaN    NaN                    NaN   \n",
      "\n",
      "    oxytetracyclinement_year broad-scale environmental context  \\\n",
      "821                      NaN                               NaN   \n",
      "822                      NaN                               NaN   \n",
      "823                      NaN                               NaN   \n",
      "824                      NaN                               NaN   \n",
      "825                      NaN                               NaN   \n",
      "..                       ...                               ...   \n",
      "909                      NaN            dense settlement biome   \n",
      "910                      NaN            dense settlement biome   \n",
      "911                      NaN            dense settlement biome   \n",
      "912                      NaN            dense settlement biome   \n",
      "913                      NaN            dense settlement biome   \n",
      "\n",
      "                environmental medium  \n",
      "821                              NaN  \n",
      "822                              NaN  \n",
      "823                              NaN  \n",
      "824                              NaN  \n",
      "825                              NaN  \n",
      "..                               ...  \n",
      "909  organic material(ENVO:01000155)  \n",
      "910  organic material(ENVO:01000155)  \n",
      "911  organic material(ENVO:01000155)  \n",
      "912  organic material(ENVO:01000155)  \n",
      "913  organic material(ENVO:01000155)  \n",
      "\n",
      "[93 rows x 114 columns]\n"
     ]
    }
   ],
   "source": [
    "  \n",
    "    \n"
   ]
  },
  {
   "cell_type": "code",
   "execution_count": 17,
   "metadata": {},
   "outputs": [
    {
     "name": "stdout",
     "output_type": "stream",
     "text": [
      "0    PRJNA698658\n",
      "1    PRJNA698658\n",
      "2    PRJNA698658\n",
      "3    PRJNA698658\n",
      "4    PRJNA698658\n",
      "Name: Bioproject, dtype: object\n"
     ]
    }
   ],
   "source": [
    "import sys\n",
    "import os\n",
    "import pandas as pd\n",
    "import numpy as np\n",
    "file_path=\"/Users/a1-6/Project-helsinki/project_meta/final_version1/test.csv\"\n",
    "directory_path = os.path.dirname(file_path)\n",
    "df = pd.read_csv(file_path)\n",
    "df['Bioproject'] = df['Bioproject'].str.replace(' ', '', regex=True).str.replace('\\n', '', regex=True).str.replace('\\t', '', regex=True)\n",
    "df['SRA_Number'] = df['SRA_Number'].str.replace(' ', '', regex=True).str.replace('\\n', '', regex=True).str.replace('\\t', '', regex=True)\n",
    "df['Biosample'] = df['Biosample'].str.replace(' ', '', regex=True).str.replace('\\n', '', regex=True).str.replace('\\t', '', regex=True)\n",
    "df['Datasets_ID'] = df['Datasets_ID'].str.replace(' ', '', regex=True).str.replace('\\n', '', regex=True).str.replace('\\t', '', regex=True)\n",
    "df['region'] = df['region'].str.replace(' ', '', regex=True).str.replace('\\n', '', regex=True).str.replace('\\t', '', regex=True)\n",
    "datasets = np.array([str(x).strip().replace('\\t', '') for x in df['Datasets_ID'].dropna().unique()], dtype=object)\n",
    "np.savetxt(f\"{directory_path}/datasets_ID.txt\", datasets, fmt=\"%s\")\n",
    "df[\"rename\"]= df['Datasets_ID'] + '_' + df['Bioproject'] + '_' + df['SRA_Number'] + '_' + df['Biosample']\n"
   ]
  },
  {
   "cell_type": "code",
   "execution_count": 20,
   "metadata": {},
   "outputs": [
    {
     "name": "stdout",
     "output_type": "stream",
     "text": [
      "folder existed, pass\n"
     ]
    }
   ],
   "source": [
    "for value in datasets:\n",
    "    exec(f\"{value} = pd.DataFrame()\")\n",
    "    exec(f\"{value} = df[df['Datasets_ID'] == '{value}'].copy()\")\n",
    "    exec(f\"{value}_sra={value}['SRA_Number']\")\n",
    "    exec(f\"{value}_rename={value}['rename']\")\n",
    "    exec(f\"{value}_region={value}[region]\")\n",
    "    exec(f\"{value}_1 = pd.DataFrame()\")\n",
    "    exec(f\"{value}_1 = pd.concat([{value}_sra, {value}_rename, {value}_region], axis=1)\")\n",
    "    folder_path = f\"{directory_path}/{value}/\"\n",
    "    if not os.path.exists(folder_path):\n",
    "        os.makedirs(folder_path)\n",
    "        print(\"folder has been generated\")\n",
    "    else:\n",
    "        print(\"folder existed, pass\")\n",
    "    globals()[f\"path_{value}\"] = folder_path\n",
    "    exec(f\"{value}_1.to_csv('{folder_path}{value}_sra.txt', sep='\\t',  header=None, index=None)\")"
   ]
  }
 ],
 "metadata": {
  "kernelspec": {
   "display_name": "base",
   "language": "python",
   "name": "python3"
  },
  "language_info": {
   "codemirror_mode": {
    "name": "ipython",
    "version": 3
   },
   "file_extension": ".py",
   "mimetype": "text/x-python",
   "name": "python",
   "nbconvert_exporter": "python",
   "pygments_lexer": "ipython3",
   "version": "3.11.5"
  }
 },
 "nbformat": 4,
 "nbformat_minor": 2
}
